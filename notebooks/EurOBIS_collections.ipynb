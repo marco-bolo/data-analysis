{
 "cells": [
  {
   "cell_type": "code",
   "execution_count": 1,
   "id": "d7ee44f4-9fe0-4960-9cc5-632a79df6e75",
   "metadata": {},
   "outputs": [],
   "source": [
    "from connec_functions import generate_sparql, execute_to_df"
   ]
  },
  {
   "cell_type": "markdown",
   "id": "9d6644ad-f41f-4e9f-88bd-f64bf5b418b1",
   "metadata": {},
   "source": [
    "## Analysis of the EurOBIS special collection"
   ]
  },
  {
   "cell_type": "code",
   "execution_count": 2,
   "id": "82590447-fb4f-4ff9-ad29-e13eb7605367",
   "metadata": {},
   "outputs": [
    {
     "data": {
      "text/html": [
       "<div>\n",
       "<style scoped>\n",
       "    .dataframe tbody tr th:only-of-type {\n",
       "        vertical-align: middle;\n",
       "    }\n",
       "\n",
       "    .dataframe tbody tr th {\n",
       "        vertical-align: top;\n",
       "    }\n",
       "\n",
       "    .dataframe thead th {\n",
       "        text-align: right;\n",
       "    }\n",
       "</style>\n",
       "<table border=\"1\" class=\"dataframe\">\n",
       "  <thead>\n",
       "    <tr style=\"text-align: right;\">\n",
       "      <th></th>\n",
       "    </tr>\n",
       "  </thead>\n",
       "  <tbody>\n",
       "  </tbody>\n",
       "</table>\n",
       "</div>"
      ],
      "text/plain": [
       "Empty DataFrame\n",
       "Columns: []\n",
       "Index: []"
      ]
     },
     "execution_count": 2,
     "metadata": {},
     "output_type": "execute_result"
    }
   ],
   "source": [
    "spcol_datasets = execute_to_df(\"spcol_datasets.sparql\")\n",
    "spcol_datasets"
   ]
  },
  {
   "cell_type": "code",
   "execution_count": 3,
   "id": "b0bafae5-b90e-4b62-ac50-d7ecad538afe",
   "metadata": {},
   "outputs": [
    {
     "data": {
      "text/html": [
       "<div>\n",
       "<style scoped>\n",
       "    .dataframe tbody tr th:only-of-type {\n",
       "        vertical-align: middle;\n",
       "    }\n",
       "\n",
       "    .dataframe tbody tr th {\n",
       "        vertical-align: top;\n",
       "    }\n",
       "\n",
       "    .dataframe thead th {\n",
       "        text-align: right;\n",
       "    }\n",
       "</style>\n",
       "<table border=\"1\" class=\"dataframe\">\n",
       "  <thead>\n",
       "    <tr style=\"text-align: right;\">\n",
       "      <th></th>\n",
       "      <th>collection_id</th>\n",
       "      <th>name</th>\n",
       "      <th>dataset</th>\n",
       "    </tr>\n",
       "  </thead>\n",
       "  <tbody>\n",
       "    <tr>\n",
       "      <th>count</th>\n",
       "      <td>8</td>\n",
       "      <td>8</td>\n",
       "      <td>8</td>\n",
       "    </tr>\n",
       "    <tr>\n",
       "      <th>unique</th>\n",
       "      <td>1</td>\n",
       "      <td>2</td>\n",
       "      <td>4</td>\n",
       "    </tr>\n",
       "    <tr>\n",
       "      <th>top</th>\n",
       "      <td>http://dev.marineinfo.org/id/collection/629</td>\n",
       "      <td>EurOBIS map</td>\n",
       "      <td>http://dev.marineinfo.org/id/dataset/4606</td>\n",
       "    </tr>\n",
       "    <tr>\n",
       "      <th>freq</th>\n",
       "      <td>8</td>\n",
       "      <td>4</td>\n",
       "      <td>2</td>\n",
       "    </tr>\n",
       "  </tbody>\n",
       "</table>\n",
       "</div>"
      ],
      "text/plain": [
       "                                      collection_id         name  \\\n",
       "count                                             8            8   \n",
       "unique                                            1            2   \n",
       "top     http://dev.marineinfo.org/id/collection/629  EurOBIS map   \n",
       "freq                                              8            4   \n",
       "\n",
       "                                          dataset  \n",
       "count                                           8  \n",
       "unique                                          4  \n",
       "top     http://dev.marineinfo.org/id/dataset/4606  \n",
       "freq                                            2  "
      ]
     },
     "execution_count": 3,
     "metadata": {},
     "output_type": "execute_result"
    }
   ],
   "source": [
    "spcol_datasets.describe()"
   ]
  },
  {
   "cell_type": "code",
   "execution_count": 4,
   "id": "6ab14186-e896-4672-beec-8ba0800f2555",
   "metadata": {},
   "outputs": [
    {
     "data": {
      "text/html": [
       "<div>\n",
       "<style scoped>\n",
       "    .dataframe tbody tr th:only-of-type {\n",
       "        vertical-align: middle;\n",
       "    }\n",
       "\n",
       "    .dataframe tbody tr th {\n",
       "        vertical-align: top;\n",
       "    }\n",
       "\n",
       "    .dataframe thead th {\n",
       "        text-align: right;\n",
       "    }\n",
       "</style>\n",
       "<table border=\"1\" class=\"dataframe\">\n",
       "  <thead>\n",
       "    <tr style=\"text-align: right;\">\n",
       "      <th></th>\n",
       "      <th>dataset</th>\n",
       "    </tr>\n",
       "    <tr>\n",
       "      <th>name</th>\n",
       "      <th></th>\n",
       "    </tr>\n",
       "  </thead>\n",
       "  <tbody>\n",
       "    <tr>\n",
       "      <th>EurOBIS dataproviders</th>\n",
       "      <td>4</td>\n",
       "    </tr>\n",
       "    <tr>\n",
       "      <th>EurOBIS map</th>\n",
       "      <td>4</td>\n",
       "    </tr>\n",
       "  </tbody>\n",
       "</table>\n",
       "</div>"
      ],
      "text/plain": [
       "                       dataset\n",
       "name                          \n",
       "EurOBIS dataproviders        4\n",
       "EurOBIS map                  4"
      ]
     },
     "execution_count": 4,
     "metadata": {},
     "output_type": "execute_result"
    }
   ],
   "source": [
    "spcol_datasets.groupby('name').nunique().drop(['collection_id'], axis=1)"
   ]
  },
  {
   "cell_type": "markdown",
   "id": "e78aadf5-f147-4b36-921a-10205070dc4e",
   "metadata": {},
   "source": [
    "#### % data available as rdf\n",
    "Since coming from marineinfo.org: 100% "
   ]
  },
  {
   "cell_type": "markdown",
   "id": "82a3d862-b948-494c-9c54-4df6c5ea21c7",
   "metadata": {},
   "source": [
    "#### How informative is the data\n",
    "\n"
   ]
  },
  {
   "cell_type": "code",
   "execution_count": null,
   "id": "fbfd9b98-d0a4-4f64-a035-d6dea0ba70cd",
   "metadata": {},
   "outputs": [],
   "source": []
  }
 ],
 "metadata": {
  "kernelspec": {
   "display_name": "Python 3 (ipykernel)",
   "language": "python",
   "name": "python3"
  },
  "language_info": {
   "codemirror_mode": {
    "name": "ipython",
    "version": 3
   },
   "file_extension": ".py",
   "mimetype": "text/x-python",
   "name": "python",
   "nbconvert_exporter": "python",
   "pygments_lexer": "ipython3",
   "version": "3.11.6"
  }
 },
 "nbformat": 4,
 "nbformat_minor": 5
}
